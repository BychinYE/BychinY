{
  "nbformat": 4,
  "nbformat_minor": 0,
  "metadata": {
    "colab": {
      "provenance": []
    },
    "kernelspec": {
      "name": "python3",
      "display_name": "Python 3"
    },
    "language_info": {
      "name": "python"
    }
  },
  "cells": [
    {
      "cell_type": "code",
      "execution_count": null,
      "metadata": {
        "id": "mSNPvfHmJObQ"
      },
      "outputs": [],
      "source": []
    },
    {
      "cell_type": "markdown",
      "metadata": {
        "id": "xw8BD8v2oBGj"
      },
      "source": [
        "# Homework"
      ]
    },
    {
      "cell_type": "markdown",
      "metadata": {
        "id": "sSos7q2_oBGj"
      },
      "source": [
        "## Problem 1"
      ]
    },
    {
      "cell_type": "markdown",
      "metadata": {
        "id": "NiX8ePp0oBGk"
      },
      "source": [
        "Make a tuple containing natural numbers, the square of which is a multiple of 3, 4, but not a multiple of 8 and not exceeding 12345."
      ]
    },
    {
      "cell_type": "code",
      "execution_count": 17,
      "metadata": {
        "id": "XmPHEnS9oBGk",
        "colab": {
          "base_uri": "https://localhost:8080/"
        },
        "outputId": "a8f5f724-7b16-4f8a-ffd3-a0b8486e5757"
      },
      "outputs": [
        {
          "output_type": "stream",
          "name": "stdout",
          "text": [
            "(6, 18, 30, 42, 54, 66, 78, 90, 102)\n"
          ]
        }
      ],
      "source": [
        "resul = tuple(i for i in range(1, 111+1) if (i**2 % 3 == 0) and (i**2 % 4 == 0) and (i**2 % 8 != 0))\n",
        "print(resul)#Вывод кортежа на экран"
      ]
    },
    {
      "cell_type": "markdown",
      "metadata": {
        "id": "OZBeUyxcoBGk"
      },
      "source": [
        "## Problem 2"
      ]
    },
    {
      "cell_type": "markdown",
      "metadata": {
        "id": "zIfvg22noBGk"
      },
      "source": [
        "\n",
        "Write a function that takes a two-dimensional array and a string as input and returns an array rotated 90 degrees counterclockwise if the string 'left' was passed, and clockwise if the string 'right' was passed.\n",
        "\n",
        "Example for input: $\\begin{bmatrix} 1 & 2 & 3 \\\\ 4 & 5 & 6 \\\\ 7 & 8 & 9 \\end{bmatrix}$.\\\n",
        "If the string 'left' is passed, the function should return $\\begin{bmatrix} 3 & 6 & 9 \\\\ 2 & 5 & 8 \\\\ 1 & 4 & 7 \\end{bmatrix}$, and if the string 'right' is passed, the function should return $\\begin{bmatrix} 7 & 4 & 1 \\\\ 8 & 5 & 2 \\\\ 9 & 6 & 3 \\end{bmatrix}$."
      ]
    },
    {
      "cell_type": "code",
      "execution_count": 19,
      "metadata": {
        "id": "HNvy_cRjoBGk",
        "colab": {
          "base_uri": "https://localhost:8080/"
        },
        "outputId": "ada0206c-36e8-4c0d-cecb-cccf3cfdb696"
      },
      "outputs": [
        {
          "output_type": "stream",
          "name": "stdout",
          "text": [
            "[[3, 6, 9], [2, 5, 8], [1, 4, 7]]\n",
            "[[7, 4, 1], [8, 5, 2], [9, 6, 3]]\n"
          ]
        }
      ],
      "source": [
        "def Povmatr(Matr, st):#The function that takes a two-dimensional array and a string\n",
        "    J = len(Matr)\n",
        "    num = len(Matr[0]) if J > 0 else 0 #Проверка непустоты\n",
        "    if st == 'right':#По часовой стрелке\n",
        "        return [[Matr[J - j - 1][i] for j in range(num)] for i in range(J)]\n",
        "    elif st == 'left':#Против часовой стрелки\n",
        "        return [[Matr[j][num - i - 1] for j in range(J)] for i in range(num)]\n",
        "#Пример работы на матрице из условия\n",
        "Matr = [[1, 2, 3], [4, 5, 6], [7, 8, 9]]\n",
        "print(Povmatr(Matr, 'left'))#The string 'left' is passed\n",
        "print(Povmatr(Matr, 'right'))#The string 'right' is passed"
      ]
    },
    {
      "cell_type": "markdown",
      "metadata": {
        "id": "_dY-PFlCoBGk"
      },
      "source": [
        "## Problem 3"
      ]
    },
    {
      "cell_type": "markdown",
      "metadata": {
        "id": "3CaIwcm0oBGk"
      },
      "source": [
        "Write a function that takes a string as input and returns a dictionary containing the number of occurrences of each character in the string.\n",
        "\n",
        "Example for the string 'hello, world!': {'h': 1, 'e': 1, 'l': 3, 'o': 2, ',': 1, ' ': 1, 'w': 1, 'r': 1, 'd': 1, '!': 1}."
      ]
    },
    {
      "cell_type": "code",
      "execution_count": 22,
      "metadata": {
        "id": "rlSbHusZoBGk",
        "colab": {
          "base_uri": "https://localhost:8080/"
        },
        "outputId": "01d1207b-535b-476a-b050-59221f49749d"
      },
      "outputs": [
        {
          "output_type": "stream",
          "name": "stdout",
          "text": [
            "{'S': 1, 't': 2, 'a': 2, 'p': 1, 'r': 1, 'c': 1, ' ': 1, '!': 1, '(': 1, '^': 2, '_': 1, ')': 1}\n"
          ]
        }
      ],
      "source": [
        "#Вроде как на семинаре сказали, что можно воспользоваться функцией\n",
        "def Sch(art):\n",
        "    return {l : art.count(l) for l in art}#Перебор и подсчет каждого символа\n",
        "print(Sch(\"Statprac !(^_^)\"))"
      ]
    },
    {
      "cell_type": "markdown",
      "metadata": {
        "id": "KBGJ7PeboBGk"
      },
      "source": [
        "## Problem 4"
      ]
    },
    {
      "cell_type": "markdown",
      "metadata": {
        "id": "XS4Seqa9oBGk"
      },
      "source": [
        "### Implementing a Library Management System\n",
        "\n",
        "#### Description\n",
        "\n",
        "You are required to design and implement a system for managing books and users in a library. The system should allow for the management of books (adding, deleting, searching by various criteria) and users (registration, deletion, searching), as well as tracking the history of interactions between them (issuing and returning books).\n",
        "\n",
        "#### Tasks\n",
        "\n",
        "1. **`Book` Class**:\n",
        "   - Attributes: title, author, year of publication, ISBN, number of copies.\n",
        "   - Methods: constructor, methods to get information about the book, method to change the number of copies (when issuing and returning books).\n",
        "\n",
        "2. **`User` Class**:\n",
        "   - Attributes: user name, library card number, list of borrowed books.\n",
        "   - Methods: constructor, methods for user registration, methods for adding and removing books from the borrowed list.\n",
        "\n",
        "3. **`Library` Class**:\n",
        "   - Attributes: list of books, list of users, transaction history (who, when, which book was borrowed and returned).\n",
        "   - Methods: constructor, methods for adding and deleting books and users, methods for issuing and returning books, searching for books and users by various criteria, method to display the transaction history.\n",
        "\n",
        "#### Assignment\n",
        "\n",
        "1. Implement the `Book`, `User`, and `Library` classes with the specified attributes and methods.\n",
        "2. Create several books and users, and add them to the library system.\n",
        "3. Implement scenarios for issuing books to users and their return.\n",
        "4. Display the transaction history to show how books were issued and returned.\n"
      ]
    },
    {
      "cell_type": "code",
      "execution_count": 25,
      "metadata": {
        "id": "IbqwtWWsoBGl",
        "colab": {
          "base_uri": "https://localhost:8080/"
        },
        "outputId": "e355627d-5c97-4426-ca8a-cad5d79be8fa"
      },
      "outputs": [
        {
          "output_type": "stream",
          "name": "stdout",
          "text": [
            "The book 'A Game of Thrones' was successfully added to the library.\n",
            "The book 'Airport' was successfully added to the library.\n",
            "The book 'Harry Potter and the Philosopher's Stone' was successfully added to the library.\n",
            "User Mary was successfully added to the library.\n",
            "User Ann was successfully added to the library.\n",
            "User Anastasia was successfully added to the library.\n",
            "User Mary borrowed the book: 'A Game of Thrones'.\n",
            "User Ann borrowed the book: 'Airport'.\n",
            "User Anastasia borrowed the book: 'Harry Potter and the Philosopher's Stone'.\n",
            "User Mary returned the book: 'A Game of Thrones'.\n"
          ]
        }
      ],
      "source": [
        "class Book:\n",
        "    def __init__(self, title, author, year, isbn, copies):\n",
        "        self.title = title\n",
        "        self.author = author\n",
        "        self.year = year\n",
        "        self.isbn = isbn\n",
        "        self.copies = copies\n",
        "        #Добавили книгу в библиотеку\n",
        "    def get_info(self):\n",
        "        return f\"{self.title}, {self.author}, {self.year}, {self.isbn}, {self.copies}\"\n",
        "    def change_copies(self, count):\n",
        "        self.copies += count\n",
        "        #Обновили число копий\n",
        "class User:\n",
        "    def __init__(self, name, id):\n",
        "        self.user_name = name\n",
        "        self.library_card_number = id\n",
        "        self.list_of_borrowed_books = []\n",
        "    def register(self):\n",
        "        return f\"User {self.user_name} registered with card number {self.library_card_number}.\"\n",
        "    def borrow_book(self, book):\n",
        "        if book.copies > 0:\n",
        "            self.list_of_borrowed_books.append(book)\n",
        "            book.change_copies(-1)\n",
        "            return f\"User {self.user_name} borrowed the book: '{book.title}'.\"\n",
        "        else:\n",
        "            return f\"User {self.user_name} could not take the book: '{book.title}', because its copies were out.\"\n",
        "    def return_book(self, book):\n",
        "        if book in self.list_of_borrowed_books:\n",
        "            self.list_of_borrowed_books.remove(book)\n",
        "            book.change_copies(1)\n",
        "            return f\"User {self.user_name} returned the book: '{book.title}'.\"\n",
        "        else:\n",
        "            return f\"User {self.user_name} tried to return the book: '{book.title}' not from his list!\"\n",
        "class Library:\n",
        "    def __init__(self):\n",
        "        self.list_books = []\n",
        "        self.list_users = []\n",
        "        self.list_transaction_history = []\n",
        "    def add_book(self, book):\n",
        "        self.list_books.append(book)\n",
        "        return f\"The book '{book.title}' was successfully added to the library.\"\n",
        "    def delete_book(self, isbn):\n",
        "        for book in self.list_books:\n",
        "            if book.isbn == isbn:\n",
        "                self.list_books.remove(book)\n",
        "                return f\"The book '{book.title}' removed from the library.\"\n",
        "        return \"Book not found.\"\n",
        "    def add_user(self, user):\n",
        "        self.list_users.append(user)\n",
        "        return f\"User {user.user_name} was successfully added to the library.\"\n",
        "    def delete_user(self, id):\n",
        "        for user in self.list_users:\n",
        "            if user.library_card_number == id:\n",
        "                self.list_users.remove(user)\n",
        "                return f\"User {user.user_name} removed from the library.\"\n",
        "        return \"User not found.\"\n",
        "    def search_books(self, title=None, author=None):\n",
        "        results = []\n",
        "        for book in self.list_books:\n",
        "            if (title and title.lower() in book.title.lower()) or (author and author.lower() in book.author.lower()):\n",
        "                results.append(book.get_info())\n",
        "        return results\n",
        "    def search_users(self, name=None):\n",
        "        results = []\n",
        "        for user in self.list_users:\n",
        "            if name and name.lower() in user.user_name.lower():\n",
        "                results.append({'Name of user': user.user_name, 'Library card number': user.library_card_number})\n",
        "        return results\n",
        "    def display_transaction_history(self):\n",
        "        return self.list_transaction_history\n",
        "#Пример\n",
        "library = Library()\n",
        "book1 = Book(\"A Game of Thrones\", \"George Martin\", 1996, \"0553103547\", 1)\n",
        "book2 = Book(\"Airport\", \"Arthur Hailey\", 1968, \"126639440\", 7)\n",
        "book3 = Book(\"Harry Potter and the Philosopher's Stone\", \"J.K.Rowling\", 1997, \"978140885589812\", 3)\n",
        "print(library.add_book(book1))\n",
        "print(library.add_book(book2))\n",
        "print(library.add_book(book3))\n",
        "user1 = User(\"Mary\", \"065\")\n",
        "user2 = User(\"Ann\", \"066\")\n",
        "user3 = User(\"Anastasia\", \"067\")\n",
        "print(library.add_user(user1))\n",
        "print(library.add_user(user2))\n",
        "print(library.add_user(user3))\n",
        "print(user1.borrow_book(book1))\n",
        "print(user2.borrow_book(book2))\n",
        "print(user3.borrow_book(book3))\n",
        "print(user1.return_book(book1))#возвращ книги"
      ]
    },
    {
      "cell_type": "markdown",
      "metadata": {
        "id": "0c8zRbSIoBGl"
      },
      "source": [
        "## Problem 5*"
      ]
    },
    {
      "cell_type": "markdown",
      "metadata": {
        "id": "8ltdzRmOoBGl"
      },
      "source": [
        "Explain why list `b` changes after the execution of the following code:\n",
        "\n",
        "```python\n",
        "a = [1, 2, 3]\n",
        "b = a\n",
        "a[0] = 4\n",
        "print(b)\n",
        "```"
      ]
    },
    {
      "cell_type": "markdown",
      "metadata": {
        "id": "RxgnUfFPoBGl"
      },
      "source": [
        "> При написании 'b=a' список b ссылается на тот же объект в памяти, что и a , потому что тип 'list' ссылочный. Поэтому вывод — [4,2,3]\n"
      ]
    },
    {
      "cell_type": "markdown",
      "metadata": {
        "id": "Mb-amOX5oBGl"
      },
      "source": []
    },
    {
      "cell_type": "markdown",
      "metadata": {
        "id": "TmXLkc_foBGl"
      },
      "source": [
        "## Problem 6*"
      ]
    },
    {
      "cell_type": "markdown",
      "metadata": {
        "id": "Gn0ibiVCoBGl"
      },
      "source": [
        "Let\n",
        "$$A = \\sum_{i=1}^{10000} \\frac{1}{i^2},\\quad B=\\sum_{i=10000}^{1} \\frac{1}{i^2}.$$\n",
        "Calculate the values of $A$ and $B$ and compare them. What do you observe? Explain why this happens. What is the best way to calculate the value of $\\sum\\limits_{i=1}^{10000} \\dfrac{1}{i^2}$?"
      ]
    },
    {
      "cell_type": "code",
      "execution_count": 24,
      "metadata": {
        "id": "3q93uGqFoBGl",
        "colab": {
          "base_uri": "https://localhost:8080/"
        },
        "outputId": "9682919f-414c-4f36-df49-a7b5a9b47b9f"
      },
      "outputs": [
        {
          "output_type": "stream",
          "name": "stdout",
          "text": [
            "1.6448340718480652\n",
            "1.6448340718480596\n"
          ]
        }
      ],
      "source": [
        "A=0\n",
        "B=0\n",
        "for i in range(1, 10000+1):\n",
        "    A += 1.0/(i**2)\n",
        "for i in reversed(range(1, 10000+1)):\n",
        "    B += 1.0/(i**2)\n",
        "print(A)\n",
        "print(B)"
      ]
    },
    {
      "cell_type": "markdown",
      "source": [
        "Различие в результатах обусловлено потерей точности в представлении чисел с плавающей точкой(такое явление ранее встречали во 2 семестре).\n",
        "При прибавлении нового числа к сумме А это число мало по сравнению с А, при обратном суммировании малые члены суммируются вначале, что сводит к минимуму потерю точности представления числа с плавающей точкой."
      ],
      "metadata": {
        "id": "llTpCqbeccrd"
      }
    }
  ]
}